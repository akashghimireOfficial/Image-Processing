{
 "cells": [
  {
   "cell_type": "markdown",
   "metadata": {},
   "source": [
    "### Image Enhancement\n",
    "***image enhancement is the process of digitally manipulating a stored image using software.***\n",
    "\n",
    "Why image enhancement? \n",
    "> To improve the visibility of an image for human interpretation. "
   ]
  },
  {
   "cell_type": "markdown",
   "metadata": {},
   "source": [
    "In this turtorial we will learn image enchancement in two domains:  ***Spatial domain*** and   ***fequency domain*** \n"
   ]
  },
  {
   "cell_type": "markdown",
   "metadata": {},
   "source": [
    "In Spatial domain of image enhancement we will look into:\n",
    "1. Basic Gray level Transformation (Negative, log ,Power-law, Gamma correction)\n",
    "2. Histogram Equalization\n",
    "3. Enhancement using Arithemetic/logi operation.\n",
    "4. Image smoothing\n",
    "5. Image sharpening\n"
   ]
  },
  {
   "cell_type": "markdown",
   "metadata": {},
   "source": [
    "__[link text](https://kavinithisara.medium.com/image-processing-gray-level-transformation-part-5-549b9b282ad3)__"
   ]
  },
  {
   "cell_type": "markdown",
   "metadata": {},
   "source": []
  }
 ],
 "metadata": {
  "kernelspec": {
   "display_name": "Python 3.8.10 64-bit",
   "language": "python",
   "name": "python3"
  },
  "language_info": {
   "codemirror_mode": {
    "name": "ipython",
    "version": 3
   },
   "file_extension": ".py",
   "mimetype": "text/x-python",
   "name": "python",
   "nbconvert_exporter": "python",
   "pygments_lexer": "ipython3",
   "version": "3.8.10"
  },
  "orig_nbformat": 4,
  "vscode": {
   "interpreter": {
    "hash": "916dbcbb3f70747c44a77c7bcd40155683ae19c65e1c03b4aa3499c5328201f1"
   }
  }
 },
 "nbformat": 4,
 "nbformat_minor": 2
}
